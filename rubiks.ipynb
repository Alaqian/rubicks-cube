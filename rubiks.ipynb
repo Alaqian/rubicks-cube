{
 "cells": [
  {
   "cell_type": "code",
   "execution_count": 1,
   "id": "aaea2b42-7c3c-4a55-9ea5-2ada3e2ccdaf",
   "metadata": {},
   "outputs": [],
   "source": [
    "import numpy as np"
   ]
  },
  {
   "cell_type": "markdown",
   "id": "4a29d8c4-1bc2-4c2e-b21c-1830af34f701",
   "metadata": {},
   "source": [
    "## Rubik's Cube Encoding\n",
    "\n",
    "### Colors\n",
    "There are 6 colors in the cube. They will be encoded as follows:\n",
    "\n",
    "- `0` represent the color red\n",
    "- `1` represent the color blue\n",
    "- `2` represent the color green\n",
    "- `3` represent the color yellow\n",
    "- `4` represent the color orange\n",
    "- `5` represent the color white\n",
    "\n",
    "### Faces\n",
    "A Rubik's Cube has 6 sides. Imagine you are looking directly at one of the faces ('Front'). There are 2 faces on the left and right ('Left', 'Right'), 2 faces directly above and below ('Up', 'Down'), and 1 face behind ('Back')\n",
    "\n",
    "Each face of the Cube will be represented as a 3x3 array:\n",
    "\n",
    "- `0` or 'F' represents the 'front' face or the face you are looking at\n",
    "- `1` or 'L' represents the 'left' face\n",
    "- `2` or 'R' represents the 'right' face\n",
    "- `3` or 'U' represents the 'up' face\n",
    "- `4` or 'D' represents the 'down' face\n",
    "- `5` or 'B' represents the 'back' face\n",
    "\n",
    "The whole cube can be represented as a 6x3x3 array:\n",
    "\n",
    "cube = [front, left, right, up, down, back]"
   ]
  },
  {
   "cell_type": "code",
   "execution_count": 2,
   "id": "36a36063-155c-49e2-8e8f-ad710ac9e2f5",
   "metadata": {},
   "outputs": [],
   "source": [
    "colors = ['red','blue','green','yellow','oragne','white']\n",
    "faces = ['front','left','right','up','down','back']\n",
    "# construct a solved cube\n",
    "cube = np.ones((6,3,3))\n",
    "for i in range(6):\n",
    "    cube[i,:,:] *= i "
   ]
  },
  {
   "cell_type": "markdown",
   "id": "85c7c99f-54b8-46e0-86c2-b22aab8c9c52",
   "metadata": {},
   "source": [
    "### Moves:\n",
    "\n",
    "#### Rotating Faces\n",
    "Each face of the cube can be rotated in one of three ways:\n",
    "- `0` represents rotating the face clockwise\n",
    "- `1` represents rotating the face anti-clockwise\n",
    "- `2` represents rotating the face 180 degrees (or 2 clockwise/anti-clockwise rotations in a row)\n",
    "\n",
    "With 6 total faces, with 3 moves per face, there are a total of 18 moves. 'F0' would be rotating the front face clockwise. 'L1' would be to rotate the left face anti-clockwise as if you are facing the cube."
   ]
  },
  {
   "cell_type": "code",
   "execution_count": 3,
   "id": "4bf98804-0575-47e2-b97a-45c78bb9fcbc",
   "metadata": {},
   "outputs": [],
   "source": [
    "def rotate_cube(cube, face, roatation):\n",
    "    return"
   ]
  }
 ],
 "metadata": {
  "kernelspec": {
   "display_name": "Python [conda env:ImV]",
   "language": "python",
   "name": "conda-env-ImV-py"
  },
  "language_info": {
   "codemirror_mode": {
    "name": "ipython",
    "version": 3
   },
   "file_extension": ".py",
   "mimetype": "text/x-python",
   "name": "python",
   "nbconvert_exporter": "python",
   "pygments_lexer": "ipython3",
   "version": "3.8.15"
  }
 },
 "nbformat": 4,
 "nbformat_minor": 5
}
