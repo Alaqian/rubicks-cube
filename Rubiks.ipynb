{
 "cells": [
  {
   "cell_type": "code",
   "execution_count": 1,
   "id": "aaea2b42-7c3c-4a55-9ea5-2ada3e2ccdaf",
   "metadata": {},
   "outputs": [],
   "source": [
    "import numpy as np"
   ]
  },
  {
   "cell_type": "markdown",
   "id": "4a29d8c4-1bc2-4c2e-b21c-1830af34f701",
   "metadata": {},
   "source": [
    "### Rubik's Cube Encoding\n",
    "\n",
    "## Colors\n",
    "There are 6 colors in the cube. They will be encoded as follows:\n",
    "\n",
    "- `0` represent the color red\n",
    "- `1` represent the color blue\n",
    "- `2` represent the color green\n",
    "- `3` represent the color yellow\n",
    "- `4` represent the color orange\n",
    "- `5` represent the color white\n",
    "\n",
    "## Faces\n",
    "A Rubik's Cube has 6 sides. Imagine you are looking directly at one of the faces ('Front'). There are 2 faces on the left and right ('Left', 'Right'), 2 faces directly above and below ('Up', 'Down'), and 1 face behind ('Back')\n",
    "\n",
    "Each face of the Cube will be represented as a 3x3 array:\n",
    "\n",
    "- `0` represents the 'Front' face or the face you are looking at\n",
    "- `1` represents the 'Left' face\n",
    "- `2` represents the 'Right' face\n",
    "- `3` represents the 'Up' face\n",
    "- `4` represents the 'Down' face\n",
    "- `5` represents the 'Back' face\n",
    "\n",
    "The whole cube can be represented as a 6x3x3 array:\n",
    "\n",
    "cube = [front, left, right, up, down, back]"
   ]
  },
  {
   "cell_type": "code",
   "execution_count": 2,
   "id": "36a36063-155c-49e2-8e8f-ad710ac9e2f5",
   "metadata": {},
   "outputs": [],
   "source": [
    "faces = colors = list(range(6))\n",
    "# construct a solved cube\n",
    "cube = np.ones((6,3,3))\n",
    "for face in range(6):\n",
    "    cube[face,:,:] *= face"
   ]
  },
  {
   "cell_type": "markdown",
   "id": "85c7c99f-54b8-46e0-86c2-b22aab8c9c52",
   "metadata": {},
   "source": []
  }
 ],
 "metadata": {
  "kernelspec": {
   "display_name": "Python [conda env:ImV]",
   "language": "python",
   "name": "conda-env-ImV-py"
  },
  "language_info": {
   "codemirror_mode": {
    "name": "ipython",
    "version": 3
   },
   "file_extension": ".py",
   "mimetype": "text/x-python",
   "name": "python",
   "nbconvert_exporter": "python",
   "pygments_lexer": "ipython3",
   "version": "3.8.15"
  }
 },
 "nbformat": 4,
 "nbformat_minor": 5
}
